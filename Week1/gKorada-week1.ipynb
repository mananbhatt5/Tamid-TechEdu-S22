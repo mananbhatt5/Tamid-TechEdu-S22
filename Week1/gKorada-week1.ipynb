{
 "cells": [
  {
   "cell_type": "code",
   "execution_count": 7,
   "metadata": {},
   "outputs": [
    {
     "data": {
      "text/plain": [
       "0          AC Cars\n",
       "1              AEM\n",
       "2           Abarth\n",
       "3           Abarth\n",
       "4           Abarth\n",
       "           ...    \n",
       "1265    Volkswagen\n",
       "1266    Volkswagen\n",
       "1267         Volvo\n",
       "1268         Volvo\n",
       "1269         Volvo\n",
       "Name: brand, Length: 1270, dtype: object"
      ]
     },
     "execution_count": 7,
     "metadata": {},
     "output_type": "execute_result"
    }
   ],
   "source": [
    "import pandas as pd\n",
    "df = pd.read_csv(\"gran_turismo_gt6.csv\")\n",
    "df\n",
    "df.head()\n",
    "df['brand']"
   ]
  }
 ],
 "metadata": {
  "interpreter": {
   "hash": "31f2aee4e71d21fbe5cf8b01ff0e069b9275f58929596ceb00d14d90e3e16cd6"
  },
  "kernelspec": {
   "display_name": "Python 3.8.9 64-bit",
   "language": "python",
   "name": "python3"
  },
  "language_info": {
   "codemirror_mode": {
    "name": "ipython",
    "version": 3
   },
   "file_extension": ".py",
   "mimetype": "text/x-python",
   "name": "python",
   "nbconvert_exporter": "python",
   "pygments_lexer": "ipython3",
   "version": "3.8.1"
  },
  "orig_nbformat": 4
 },
 "nbformat": 4,
 "nbformat_minor": 2
}
