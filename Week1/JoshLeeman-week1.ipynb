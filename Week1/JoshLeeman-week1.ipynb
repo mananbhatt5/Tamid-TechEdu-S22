{
 "cells": [
  {
   "cell_type": "code",
   "execution_count": 12,
   "metadata": {},
   "outputs": [
    {
     "name": "stdout",
     "output_type": "stream",
     "text": [
      "Hello World!\n"
     ]
    },
    {
     "data": {
      "text/plain": [
       "0      7050000.0\n",
       "1      6090000.0\n",
       "2      6330000.0\n",
       "3      6740000.0\n",
       "4      6910000.0\n",
       "         ...    \n",
       "172    6490000.0\n",
       "173    6450000.0\n",
       "174    6090000.0\n",
       "175    6450000.0\n",
       "176    8720000.0\n",
       "Name: us_viewers, Length: 177, dtype: float64"
      ]
     },
     "execution_count": 12,
     "metadata": {},
     "output_type": "execute_result"
    }
   ],
   "source": [
    "print(\"Hello World!\")\n",
    "import pandas as pd\n",
    "df = pd.read_csv(\"house_episodes.csv\")\n",
    "df\n",
    "df.head()\n",
    "df.describe()\n",
    "df['us_viewers']\n"
   ]
  }
 ],
 "metadata": {
  "interpreter": {
   "hash": "aee8b7b246df8f9039afb4144a1f6fd8d2ca17a180786b69acc140d282b71a49"
  },
  "kernelspec": {
   "display_name": "Python 3.10.2 64-bit",
   "language": "python",
   "name": "python3"
  },
  "language_info": {
   "codemirror_mode": {
    "name": "ipython",
    "version": 3
   },
   "file_extension": ".py",
   "mimetype": "text/x-python",
   "name": "python",
   "nbconvert_exporter": "python",
   "pygments_lexer": "ipython3",
   "version": "3.10.2"
  },
  "orig_nbformat": 4
 },
 "nbformat": 4,
 "nbformat_minor": 2
}
