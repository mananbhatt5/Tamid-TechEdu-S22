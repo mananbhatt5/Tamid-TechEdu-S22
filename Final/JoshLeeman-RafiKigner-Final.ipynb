{
 "cells": [
  {
   "cell_type": "markdown",
   "metadata": {},
   "source": [
    "# Is there a correlation between good hitting catchers and wins?\n",
    "#### Rafi Kigner and Josh Leeman"
   ]
  },
  {
   "cell_type": "markdown",
   "metadata": {},
   "source": [
    "## Imports"
   ]
  },
  {
   "cell_type": "code",
   "execution_count": 333,
   "metadata": {},
   "outputs": [],
   "source": [
    "import json\n",
    "import csv\n",
    "import pandas as pd\n",
    "import numpy as np\n",
    "import matplotlib.pyplot as plt\n",
    "import seaborn as sns\n",
    "import statsmodels.api as sm\n",
    "import warnings"
   ]
  },
  {
   "cell_type": "markdown",
   "metadata": {},
   "source": [
    "## Data Processing - Setup\n",
    "\n",
    "#### We first compiled data of cumulative catchers' statistics from all 30 MLB teams and put it into a JSON file using Google Firebase. \n",
    "#### For each MLB team we listed their win totals and catchers' batting average, on-base percentage, and slugging percentage.\n",
    "\n",
    "#### We then imported the JSON file into our .ipynb file in order to convert it to a CSV file.\n"
   ]
  },
  {
   "cell_type": "code",
   "execution_count": 334,
   "metadata": {},
   "outputs": [
    {
     "name": "stdout",
     "output_type": "stream",
     "text": [
      "{' Team_Catchers_Cumulative_Stats_To_Wins': [{'Name': 'Giants', '0BP': 360, 'BA': 271, 'SLG': 446, 'Wins': 107}, {'Name': 'Reds', 'OBP': 352, 'BA': 260, 'SLG': 400, 'Wins': 83}, {'Name': 'Red Sox', 'OBP': 319, 'BA': 266, 'SLG': 365, 'Wins': 92}, {'Name': 'Royals', 'OBP': 310, 'BA': 264, 'SLG': 496, 'Wins': 74}, {'Name': 'Nationals', 'OBP': 352, 'BA': 260, 'SLG': 416, 'Wins': 65}, {'Name': 'Brewers', 'OBP': 327, 'BA': 244, 'SLG': 421, 'Wins': 95}, {'Name': 'Dodgers', 'OBP': 343, 'BA': 243, 'SLG': 448, 'Wins': 106}, {'Name': 'Phillies', 'OBP': 312, 'BA': 236, 'SLG': 383, 'Wins': 82}, {'Name': 'Diamond Backs', 'OBP': 324, 'BA': 236, 'SLG': 410, 'Wins': 52}, {'Name': 'Rays', 'OBP': 309, 'BA': 234, 'SLG': 494, 'Wins': 100}, {'Name': 'Cardinals', 'OBP': 293, 'BA': 233, 'SLG': 339, 'Wins': 90}, {'Name': 'Blue Jays', 'OBP': 305, 'BA': 233, 'SLG': 403, 'Wins': 91}, {'Name': 'Padres', 'OBP': 310, 'BA': 231, 'SLG': 327, 'Wins': 79}, {'Name': 'Tigers', 'OBP': 282, 'BA': 226, 'SLG': 451, 'Wins': 77}, {'Name': 'Angels', 'OBP': 298, 'BA': 225, 'SLG': 366, 'Wins': 77}, {'Name': 'Orioles', 'OBP': 285, 'BA': 223, 'SLG': 344, 'Wins': 52}, {'Name': 'Rockies', 'OBP': 303, 'BA': 223, 'SLG': 438, 'Wins': 74}, {'Name': 'Mets', 'OBP': 279, 'BA': 222, 'SLG': 331, 'Wins': 77}, {'Name': 'White Sox', 'OBP': 365, 'BA': 220, 'SLG': 434, 'Wins': 93}, {'Name': 'Rangers', 'OBP': 254, 'BA': 220, 'SLG': 367, 'Wins': 60}, {'Name': 'Cubs', 'OBP': 313, 'BA': 217, 'SLG': 388, 'Wins': 71}, {'Name': 'Athletics', 'OBP': 288, 'BA': 216, 'SLG': 387, 'Wins': 86}, {'Name': 'Twins', 'OBP': 297, 'BA': 215, 'SLG': 425, 'Wins': 73}, {'Name': 'Mariners', 'OBP': 285, 'BA': 214, 'SLG': 370, 'Wins': 90}, {'Name': 'Marlins', 'OBP': 267, 'BA': 212, 'SLG': 319, 'Wins': 67}, {'Name': 'Pirates', 'OBP': 297, 'BA': 211, 'SLG': 341, 'Wins': 61}, {'Name': 'Yankees', 'OBP': 284, 'BA': 195, 'SLG': 404, 'Wins': 92}, {'Name': 'Braves', 'OBP': 274, 'BA': 192, 'SLG': 320, 'Wins': 88}, {'Name': 'Astros', 'OBP': 293, 'BA': 189, 'SLG': 335, 'Wins': 95}, {'Name': 'Indians', 'OBP': 241, 'BA': 183, 'SLG': 329, 'Wins': 80}]}\n"
     ]
    }
   ],
   "source": [
    "with open('catchersToWins.json') as json_file:\n",
    "    data = json.load(json_file)\n",
    "    print(data)\n",
    "catchers_stats = data[' Team_Catchers_Cumulative_Stats_To_Wins']"
   ]
  },
  {
   "cell_type": "markdown",
   "metadata": {},
   "source": [
    "## Data Processing - Convert from JSON to CSV to Dataframe\n",
    "\n",
    "#### After converting from the JSON to CSV, we made a dataframe consisting off all 30 MLB teams and their respective cumulative statistics for all their catchers."
   ]
  },
  {
   "cell_type": "code",
   "execution_count": 335,
   "metadata": {},
   "outputs": [
    {
     "data": {
      "text/html": [
       "<div>\n",
       "<style scoped>\n",
       "    .dataframe tbody tr th:only-of-type {\n",
       "        vertical-align: middle;\n",
       "    }\n",
       "\n",
       "    .dataframe tbody tr th {\n",
       "        vertical-align: top;\n",
       "    }\n",
       "\n",
       "    .dataframe thead th {\n",
       "        text-align: right;\n",
       "    }\n",
       "</style>\n",
       "<table border=\"1\" class=\"dataframe\">\n",
       "  <thead>\n",
       "    <tr style=\"text-align: right;\">\n",
       "      <th></th>\n",
       "      <th>Name</th>\n",
       "      <th>0BP</th>\n",
       "      <th>BA</th>\n",
       "      <th>SLG</th>\n",
       "      <th>Wins</th>\n",
       "    </tr>\n",
       "  </thead>\n",
       "  <tbody>\n",
       "    <tr>\n",
       "      <th>0</th>\n",
       "      <td>Giants</td>\n",
       "      <td>360</td>\n",
       "      <td>271</td>\n",
       "      <td>446</td>\n",
       "      <td>107</td>\n",
       "    </tr>\n",
       "    <tr>\n",
       "      <th>1</th>\n",
       "      <td>Reds</td>\n",
       "      <td>352</td>\n",
       "      <td>260</td>\n",
       "      <td>400</td>\n",
       "      <td>83</td>\n",
       "    </tr>\n",
       "    <tr>\n",
       "      <th>2</th>\n",
       "      <td>Red Sox</td>\n",
       "      <td>319</td>\n",
       "      <td>266</td>\n",
       "      <td>365</td>\n",
       "      <td>92</td>\n",
       "    </tr>\n",
       "    <tr>\n",
       "      <th>3</th>\n",
       "      <td>Royals</td>\n",
       "      <td>310</td>\n",
       "      <td>264</td>\n",
       "      <td>496</td>\n",
       "      <td>74</td>\n",
       "    </tr>\n",
       "    <tr>\n",
       "      <th>4</th>\n",
       "      <td>Nationals</td>\n",
       "      <td>352</td>\n",
       "      <td>260</td>\n",
       "      <td>416</td>\n",
       "      <td>65</td>\n",
       "    </tr>\n",
       "    <tr>\n",
       "      <th>5</th>\n",
       "      <td>Brewers</td>\n",
       "      <td>327</td>\n",
       "      <td>244</td>\n",
       "      <td>421</td>\n",
       "      <td>95</td>\n",
       "    </tr>\n",
       "    <tr>\n",
       "      <th>6</th>\n",
       "      <td>Dodgers</td>\n",
       "      <td>343</td>\n",
       "      <td>243</td>\n",
       "      <td>448</td>\n",
       "      <td>106</td>\n",
       "    </tr>\n",
       "    <tr>\n",
       "      <th>7</th>\n",
       "      <td>Phillies</td>\n",
       "      <td>312</td>\n",
       "      <td>236</td>\n",
       "      <td>383</td>\n",
       "      <td>82</td>\n",
       "    </tr>\n",
       "    <tr>\n",
       "      <th>8</th>\n",
       "      <td>Diamond Backs</td>\n",
       "      <td>324</td>\n",
       "      <td>236</td>\n",
       "      <td>410</td>\n",
       "      <td>52</td>\n",
       "    </tr>\n",
       "    <tr>\n",
       "      <th>9</th>\n",
       "      <td>Rays</td>\n",
       "      <td>309</td>\n",
       "      <td>234</td>\n",
       "      <td>494</td>\n",
       "      <td>100</td>\n",
       "    </tr>\n",
       "    <tr>\n",
       "      <th>10</th>\n",
       "      <td>Cardinals</td>\n",
       "      <td>293</td>\n",
       "      <td>233</td>\n",
       "      <td>339</td>\n",
       "      <td>90</td>\n",
       "    </tr>\n",
       "    <tr>\n",
       "      <th>11</th>\n",
       "      <td>Blue Jays</td>\n",
       "      <td>305</td>\n",
       "      <td>233</td>\n",
       "      <td>403</td>\n",
       "      <td>91</td>\n",
       "    </tr>\n",
       "    <tr>\n",
       "      <th>12</th>\n",
       "      <td>Padres</td>\n",
       "      <td>310</td>\n",
       "      <td>231</td>\n",
       "      <td>327</td>\n",
       "      <td>79</td>\n",
       "    </tr>\n",
       "    <tr>\n",
       "      <th>13</th>\n",
       "      <td>Tigers</td>\n",
       "      <td>282</td>\n",
       "      <td>226</td>\n",
       "      <td>451</td>\n",
       "      <td>77</td>\n",
       "    </tr>\n",
       "    <tr>\n",
       "      <th>14</th>\n",
       "      <td>Angels</td>\n",
       "      <td>298</td>\n",
       "      <td>225</td>\n",
       "      <td>366</td>\n",
       "      <td>77</td>\n",
       "    </tr>\n",
       "    <tr>\n",
       "      <th>15</th>\n",
       "      <td>Orioles</td>\n",
       "      <td>285</td>\n",
       "      <td>223</td>\n",
       "      <td>344</td>\n",
       "      <td>52</td>\n",
       "    </tr>\n",
       "    <tr>\n",
       "      <th>16</th>\n",
       "      <td>Rockies</td>\n",
       "      <td>303</td>\n",
       "      <td>223</td>\n",
       "      <td>438</td>\n",
       "      <td>74</td>\n",
       "    </tr>\n",
       "    <tr>\n",
       "      <th>17</th>\n",
       "      <td>Mets</td>\n",
       "      <td>279</td>\n",
       "      <td>222</td>\n",
       "      <td>331</td>\n",
       "      <td>77</td>\n",
       "    </tr>\n",
       "    <tr>\n",
       "      <th>18</th>\n",
       "      <td>White Sox</td>\n",
       "      <td>365</td>\n",
       "      <td>220</td>\n",
       "      <td>434</td>\n",
       "      <td>93</td>\n",
       "    </tr>\n",
       "    <tr>\n",
       "      <th>19</th>\n",
       "      <td>Rangers</td>\n",
       "      <td>254</td>\n",
       "      <td>220</td>\n",
       "      <td>367</td>\n",
       "      <td>60</td>\n",
       "    </tr>\n",
       "    <tr>\n",
       "      <th>20</th>\n",
       "      <td>Cubs</td>\n",
       "      <td>313</td>\n",
       "      <td>217</td>\n",
       "      <td>388</td>\n",
       "      <td>71</td>\n",
       "    </tr>\n",
       "    <tr>\n",
       "      <th>21</th>\n",
       "      <td>Athletics</td>\n",
       "      <td>288</td>\n",
       "      <td>216</td>\n",
       "      <td>387</td>\n",
       "      <td>86</td>\n",
       "    </tr>\n",
       "    <tr>\n",
       "      <th>22</th>\n",
       "      <td>Twins</td>\n",
       "      <td>297</td>\n",
       "      <td>215</td>\n",
       "      <td>425</td>\n",
       "      <td>73</td>\n",
       "    </tr>\n",
       "    <tr>\n",
       "      <th>23</th>\n",
       "      <td>Mariners</td>\n",
       "      <td>285</td>\n",
       "      <td>214</td>\n",
       "      <td>370</td>\n",
       "      <td>90</td>\n",
       "    </tr>\n",
       "    <tr>\n",
       "      <th>24</th>\n",
       "      <td>Marlins</td>\n",
       "      <td>267</td>\n",
       "      <td>212</td>\n",
       "      <td>319</td>\n",
       "      <td>67</td>\n",
       "    </tr>\n",
       "    <tr>\n",
       "      <th>25</th>\n",
       "      <td>Pirates</td>\n",
       "      <td>297</td>\n",
       "      <td>211</td>\n",
       "      <td>341</td>\n",
       "      <td>61</td>\n",
       "    </tr>\n",
       "    <tr>\n",
       "      <th>26</th>\n",
       "      <td>Yankees</td>\n",
       "      <td>284</td>\n",
       "      <td>195</td>\n",
       "      <td>404</td>\n",
       "      <td>92</td>\n",
       "    </tr>\n",
       "    <tr>\n",
       "      <th>27</th>\n",
       "      <td>Braves</td>\n",
       "      <td>274</td>\n",
       "      <td>192</td>\n",
       "      <td>320</td>\n",
       "      <td>88</td>\n",
       "    </tr>\n",
       "    <tr>\n",
       "      <th>28</th>\n",
       "      <td>Astros</td>\n",
       "      <td>293</td>\n",
       "      <td>189</td>\n",
       "      <td>335</td>\n",
       "      <td>95</td>\n",
       "    </tr>\n",
       "    <tr>\n",
       "      <th>29</th>\n",
       "      <td>Indians</td>\n",
       "      <td>241</td>\n",
       "      <td>183</td>\n",
       "      <td>329</td>\n",
       "      <td>80</td>\n",
       "    </tr>\n",
       "  </tbody>\n",
       "</table>\n",
       "</div>"
      ],
      "text/plain": [
       "             Name  0BP   BA  SLG  Wins\n",
       "0          Giants  360  271  446   107\n",
       "1            Reds  352  260  400    83\n",
       "2         Red Sox  319  266  365    92\n",
       "3          Royals  310  264  496    74\n",
       "4       Nationals  352  260  416    65\n",
       "5         Brewers  327  244  421    95\n",
       "6         Dodgers  343  243  448   106\n",
       "7        Phillies  312  236  383    82\n",
       "8   Diamond Backs  324  236  410    52\n",
       "9            Rays  309  234  494   100\n",
       "10      Cardinals  293  233  339    90\n",
       "11      Blue Jays  305  233  403    91\n",
       "12         Padres  310  231  327    79\n",
       "13         Tigers  282  226  451    77\n",
       "14         Angels  298  225  366    77\n",
       "15        Orioles  285  223  344    52\n",
       "16        Rockies  303  223  438    74\n",
       "17           Mets  279  222  331    77\n",
       "18      White Sox  365  220  434    93\n",
       "19        Rangers  254  220  367    60\n",
       "20           Cubs  313  217  388    71\n",
       "21      Athletics  288  216  387    86\n",
       "22          Twins  297  215  425    73\n",
       "23       Mariners  285  214  370    90\n",
       "24        Marlins  267  212  319    67\n",
       "25        Pirates  297  211  341    61\n",
       "26        Yankees  284  195  404    92\n",
       "27         Braves  274  192  320    88\n",
       "28         Astros  293  189  335    95\n",
       "29        Indians  241  183  329    80"
      ]
     },
     "execution_count": 335,
     "metadata": {},
     "output_type": "execute_result"
    }
   ],
   "source": [
    "catchers_stats = data[' Team_Catchers_Cumulative_Stats_To_Wins']\n",
    "data_file = open('/Users/joshleeman/src/Tamid-TechEdu-S22/Final/catchersToWins.csv', 'w')\n",
    "csv_writer = csv.writer(data_file)\n",
    "csv_writer.writerow(catchers_stats[0].keys())\n",
    "for catcher in catchers_stats:\n",
    "    csv_writer.writerow(catcher.values())\n",
    "data_file.close()\n",
    "df = pd.read_csv('catchersToWins.csv')\n",
    "df"
   ]
  },
  {
   "cell_type": "markdown",
   "metadata": {},
   "source": [
    "## Data Integration\n",
    "\n",
    "#### Once we had our dataframe, we needed to clean and alter our dataframe to have only what we wanted to draw a conclusion.\n",
    "\n",
    "#### We began with combining the SLG and OBP columns from the dataframe to form another stat called OPS and removed the BA column because we weren't going to use it. \n",
    "\n",
    "#### We then made two additional dataframes, one consisting of teams with at least 85 wins and the other consisting of all other teams."
   ]
  },
  {
   "cell_type": "code",
   "execution_count": 336,
   "metadata": {},
   "outputs": [
    {
     "data": {
      "text/html": [
       "<div>\n",
       "<style scoped>\n",
       "    .dataframe tbody tr th:only-of-type {\n",
       "        vertical-align: middle;\n",
       "    }\n",
       "\n",
       "    .dataframe tbody tr th {\n",
       "        vertical-align: top;\n",
       "    }\n",
       "\n",
       "    .dataframe thead th {\n",
       "        text-align: right;\n",
       "    }\n",
       "</style>\n",
       "<table border=\"1\" class=\"dataframe\">\n",
       "  <thead>\n",
       "    <tr style=\"text-align: right;\">\n",
       "      <th></th>\n",
       "      <th>Name</th>\n",
       "      <th>0BP</th>\n",
       "      <th>SLG</th>\n",
       "      <th>OPS</th>\n",
       "      <th>Wins</th>\n",
       "    </tr>\n",
       "  </thead>\n",
       "  <tbody>\n",
       "    <tr>\n",
       "      <th>0</th>\n",
       "      <td>Giants</td>\n",
       "      <td>360</td>\n",
       "      <td>446</td>\n",
       "      <td>806</td>\n",
       "      <td>107</td>\n",
       "    </tr>\n",
       "    <tr>\n",
       "      <th>2</th>\n",
       "      <td>Red Sox</td>\n",
       "      <td>319</td>\n",
       "      <td>365</td>\n",
       "      <td>684</td>\n",
       "      <td>92</td>\n",
       "    </tr>\n",
       "    <tr>\n",
       "      <th>5</th>\n",
       "      <td>Brewers</td>\n",
       "      <td>327</td>\n",
       "      <td>421</td>\n",
       "      <td>748</td>\n",
       "      <td>95</td>\n",
       "    </tr>\n",
       "    <tr>\n",
       "      <th>6</th>\n",
       "      <td>Dodgers</td>\n",
       "      <td>343</td>\n",
       "      <td>448</td>\n",
       "      <td>791</td>\n",
       "      <td>106</td>\n",
       "    </tr>\n",
       "    <tr>\n",
       "      <th>9</th>\n",
       "      <td>Rays</td>\n",
       "      <td>309</td>\n",
       "      <td>494</td>\n",
       "      <td>803</td>\n",
       "      <td>100</td>\n",
       "    </tr>\n",
       "    <tr>\n",
       "      <th>10</th>\n",
       "      <td>Cardinals</td>\n",
       "      <td>293</td>\n",
       "      <td>339</td>\n",
       "      <td>632</td>\n",
       "      <td>90</td>\n",
       "    </tr>\n",
       "    <tr>\n",
       "      <th>11</th>\n",
       "      <td>Blue Jays</td>\n",
       "      <td>305</td>\n",
       "      <td>403</td>\n",
       "      <td>708</td>\n",
       "      <td>91</td>\n",
       "    </tr>\n",
       "    <tr>\n",
       "      <th>18</th>\n",
       "      <td>White Sox</td>\n",
       "      <td>365</td>\n",
       "      <td>434</td>\n",
       "      <td>799</td>\n",
       "      <td>93</td>\n",
       "    </tr>\n",
       "    <tr>\n",
       "      <th>21</th>\n",
       "      <td>Athletics</td>\n",
       "      <td>288</td>\n",
       "      <td>387</td>\n",
       "      <td>675</td>\n",
       "      <td>86</td>\n",
       "    </tr>\n",
       "    <tr>\n",
       "      <th>23</th>\n",
       "      <td>Mariners</td>\n",
       "      <td>285</td>\n",
       "      <td>370</td>\n",
       "      <td>655</td>\n",
       "      <td>90</td>\n",
       "    </tr>\n",
       "    <tr>\n",
       "      <th>26</th>\n",
       "      <td>Yankees</td>\n",
       "      <td>284</td>\n",
       "      <td>404</td>\n",
       "      <td>688</td>\n",
       "      <td>92</td>\n",
       "    </tr>\n",
       "    <tr>\n",
       "      <th>27</th>\n",
       "      <td>Braves</td>\n",
       "      <td>274</td>\n",
       "      <td>320</td>\n",
       "      <td>594</td>\n",
       "      <td>88</td>\n",
       "    </tr>\n",
       "    <tr>\n",
       "      <th>28</th>\n",
       "      <td>Astros</td>\n",
       "      <td>293</td>\n",
       "      <td>335</td>\n",
       "      <td>628</td>\n",
       "      <td>95</td>\n",
       "    </tr>\n",
       "  </tbody>\n",
       "</table>\n",
       "</div>"
      ],
      "text/plain": [
       "         Name  0BP  SLG  OPS  Wins\n",
       "0      Giants  360  446  806   107\n",
       "2     Red Sox  319  365  684    92\n",
       "5     Brewers  327  421  748    95\n",
       "6     Dodgers  343  448  791   106\n",
       "9        Rays  309  494  803   100\n",
       "10  Cardinals  293  339  632    90\n",
       "11  Blue Jays  305  403  708    91\n",
       "18  White Sox  365  434  799    93\n",
       "21  Athletics  288  387  675    86\n",
       "23   Mariners  285  370  655    90\n",
       "26    Yankees  284  404  688    92\n",
       "27     Braves  274  320  594    88\n",
       "28     Astros  293  335  628    95"
      ]
     },
     "execution_count": 336,
     "metadata": {},
     "output_type": "execute_result"
    }
   ],
   "source": [
    "df['OPS'] = df['0BP'] + df['SLG']\n",
    "df.drop('BA', axis=1, inplace=True)\n",
    "df = df[[\"Name\", \"0BP\", \"SLG\", \"OPS\", \"Wins\"]]\n",
    "good_teams = df.loc[df['Wins'] >= 85]\n",
    "good_teams"
   ]
  },
  {
   "cell_type": "code",
   "execution_count": 337,
   "metadata": {},
   "outputs": [
    {
     "data": {
      "text/html": [
       "<div>\n",
       "<style scoped>\n",
       "    .dataframe tbody tr th:only-of-type {\n",
       "        vertical-align: middle;\n",
       "    }\n",
       "\n",
       "    .dataframe tbody tr th {\n",
       "        vertical-align: top;\n",
       "    }\n",
       "\n",
       "    .dataframe thead th {\n",
       "        text-align: right;\n",
       "    }\n",
       "</style>\n",
       "<table border=\"1\" class=\"dataframe\">\n",
       "  <thead>\n",
       "    <tr style=\"text-align: right;\">\n",
       "      <th></th>\n",
       "      <th>Name</th>\n",
       "      <th>0BP</th>\n",
       "      <th>SLG</th>\n",
       "      <th>OPS</th>\n",
       "      <th>Wins</th>\n",
       "    </tr>\n",
       "  </thead>\n",
       "  <tbody>\n",
       "    <tr>\n",
       "      <th>1</th>\n",
       "      <td>Reds</td>\n",
       "      <td>352</td>\n",
       "      <td>400</td>\n",
       "      <td>752</td>\n",
       "      <td>83</td>\n",
       "    </tr>\n",
       "    <tr>\n",
       "      <th>3</th>\n",
       "      <td>Royals</td>\n",
       "      <td>310</td>\n",
       "      <td>496</td>\n",
       "      <td>806</td>\n",
       "      <td>74</td>\n",
       "    </tr>\n",
       "    <tr>\n",
       "      <th>4</th>\n",
       "      <td>Nationals</td>\n",
       "      <td>352</td>\n",
       "      <td>416</td>\n",
       "      <td>768</td>\n",
       "      <td>65</td>\n",
       "    </tr>\n",
       "    <tr>\n",
       "      <th>7</th>\n",
       "      <td>Phillies</td>\n",
       "      <td>312</td>\n",
       "      <td>383</td>\n",
       "      <td>695</td>\n",
       "      <td>82</td>\n",
       "    </tr>\n",
       "    <tr>\n",
       "      <th>8</th>\n",
       "      <td>Diamond Backs</td>\n",
       "      <td>324</td>\n",
       "      <td>410</td>\n",
       "      <td>734</td>\n",
       "      <td>52</td>\n",
       "    </tr>\n",
       "    <tr>\n",
       "      <th>12</th>\n",
       "      <td>Padres</td>\n",
       "      <td>310</td>\n",
       "      <td>327</td>\n",
       "      <td>637</td>\n",
       "      <td>79</td>\n",
       "    </tr>\n",
       "    <tr>\n",
       "      <th>13</th>\n",
       "      <td>Tigers</td>\n",
       "      <td>282</td>\n",
       "      <td>451</td>\n",
       "      <td>733</td>\n",
       "      <td>77</td>\n",
       "    </tr>\n",
       "    <tr>\n",
       "      <th>14</th>\n",
       "      <td>Angels</td>\n",
       "      <td>298</td>\n",
       "      <td>366</td>\n",
       "      <td>664</td>\n",
       "      <td>77</td>\n",
       "    </tr>\n",
       "    <tr>\n",
       "      <th>15</th>\n",
       "      <td>Orioles</td>\n",
       "      <td>285</td>\n",
       "      <td>344</td>\n",
       "      <td>629</td>\n",
       "      <td>52</td>\n",
       "    </tr>\n",
       "    <tr>\n",
       "      <th>16</th>\n",
       "      <td>Rockies</td>\n",
       "      <td>303</td>\n",
       "      <td>438</td>\n",
       "      <td>741</td>\n",
       "      <td>74</td>\n",
       "    </tr>\n",
       "    <tr>\n",
       "      <th>17</th>\n",
       "      <td>Mets</td>\n",
       "      <td>279</td>\n",
       "      <td>331</td>\n",
       "      <td>610</td>\n",
       "      <td>77</td>\n",
       "    </tr>\n",
       "    <tr>\n",
       "      <th>19</th>\n",
       "      <td>Rangers</td>\n",
       "      <td>254</td>\n",
       "      <td>367</td>\n",
       "      <td>621</td>\n",
       "      <td>60</td>\n",
       "    </tr>\n",
       "    <tr>\n",
       "      <th>20</th>\n",
       "      <td>Cubs</td>\n",
       "      <td>313</td>\n",
       "      <td>388</td>\n",
       "      <td>701</td>\n",
       "      <td>71</td>\n",
       "    </tr>\n",
       "    <tr>\n",
       "      <th>22</th>\n",
       "      <td>Twins</td>\n",
       "      <td>297</td>\n",
       "      <td>425</td>\n",
       "      <td>722</td>\n",
       "      <td>73</td>\n",
       "    </tr>\n",
       "    <tr>\n",
       "      <th>24</th>\n",
       "      <td>Marlins</td>\n",
       "      <td>267</td>\n",
       "      <td>319</td>\n",
       "      <td>586</td>\n",
       "      <td>67</td>\n",
       "    </tr>\n",
       "    <tr>\n",
       "      <th>25</th>\n",
       "      <td>Pirates</td>\n",
       "      <td>297</td>\n",
       "      <td>341</td>\n",
       "      <td>638</td>\n",
       "      <td>61</td>\n",
       "    </tr>\n",
       "    <tr>\n",
       "      <th>29</th>\n",
       "      <td>Indians</td>\n",
       "      <td>241</td>\n",
       "      <td>329</td>\n",
       "      <td>570</td>\n",
       "      <td>80</td>\n",
       "    </tr>\n",
       "  </tbody>\n",
       "</table>\n",
       "</div>"
      ],
      "text/plain": [
       "             Name  0BP  SLG  OPS  Wins\n",
       "1            Reds  352  400  752    83\n",
       "3          Royals  310  496  806    74\n",
       "4       Nationals  352  416  768    65\n",
       "7        Phillies  312  383  695    82\n",
       "8   Diamond Backs  324  410  734    52\n",
       "12         Padres  310  327  637    79\n",
       "13         Tigers  282  451  733    77\n",
       "14         Angels  298  366  664    77\n",
       "15        Orioles  285  344  629    52\n",
       "16        Rockies  303  438  741    74\n",
       "17           Mets  279  331  610    77\n",
       "19        Rangers  254  367  621    60\n",
       "20           Cubs  313  388  701    71\n",
       "22          Twins  297  425  722    73\n",
       "24        Marlins  267  319  586    67\n",
       "25        Pirates  297  341  638    61\n",
       "29        Indians  241  329  570    80"
      ]
     },
     "execution_count": 337,
     "metadata": {},
     "output_type": "execute_result"
    }
   ],
   "source": [
    "bad_teams = df.loc[df['Wins'] < 85]\n",
    "bad_teams"
   ]
  },
  {
   "cell_type": "markdown",
   "metadata": {},
   "source": [
    "## Data Visualization\n",
    "\n",
    "#### We then created three graphs. One being a scatterplot with a line of best fit between all of the team's OPS and total wins.\n",
    "\n",
    "#### The other two graphs are each boxplots relating a team's catcher OPS to total wins.\n"
   ]
  },
  {
   "cell_type": "code",
   "execution_count": 338,
   "metadata": {},
   "outputs": [
    {
     "data": {
      "text/plain": [
       "[<matplotlib.lines.Line2D at 0x132a3d510>]"
      ]
     },
     "execution_count": 338,
     "metadata": {},
     "output_type": "execute_result"
    },
    {
     "data": {
      "image/png": "[encoded data removed]",
      "text/plain": [
       "<Figure size 432x288 with 1 Axes>"
      ]
     },
     "metadata": {
      "needs_background": "light"
     },
     "output_type": "display_data"
    }
   ],
   "source": [
    "OPS = 'OPS'\n",
    "Wins = 'Wins'\n",
    "plt.plot(OPS, Wins, data = df, linestyle = 'none', marker = 'o')\n",
    "m, b = np.polyfit(df[OPS], df[Wins], 1)\n",
    "plt.plot(df[OPS], m * df[OPS] + b)"
   ]
  },
  {
   "cell_type": "markdown",
   "metadata": {},
   "source": [
    "#### We can see that there is a positive correlation between catcher OPS and Wins."
   ]
  },
  {
   "cell_type": "code",
   "execution_count": 339,
   "metadata": {},
   "outputs": [
    {
     "data": {
      "text/plain": [
       "<AxesSubplot:ylabel='OPS'>"
      ]
     },
     "execution_count": 339,
     "metadata": {},
     "output_type": "execute_result"
    },
    {
     "data": {
      "image/png": "[encoded data removed]",
      "text/plain": [
       "<Figure size 432x288 with 1 Axes>"
      ]
     },
     "metadata": {
      "needs_background": "light"
     },
     "output_type": "display_data"
    }
   ],
   "source": [
    "sns.boxplot(y=good_teams['OPS'])"
   ]
  },
  {
   "cell_type": "markdown",
   "metadata": {},
   "source": [
    "#### This is a boxplot of all the good teams catchers' OPS. As you can see, the average OPS is near 700, however the majority of teams are above that average meaning there a few outliers bringing that average down. Now let's compare it to the average catcher OPS of the bad teams."
   ]
  },
  {
   "cell_type": "code",
   "execution_count": 340,
   "metadata": {},
   "outputs": [
    {
     "data": {
      "text/plain": [
       "<AxesSubplot:ylabel='OPS'>"
      ]
     },
     "execution_count": 340,
     "metadata": {},
     "output_type": "execute_result"
    },
    {
     "data": {
      "image/png": "[encoded data removed]",
      "text/plain": [
       "<Figure size 432x288 with 1 Axes>"
      ]
     },
     "metadata": {
      "needs_background": "light"
     },
     "output_type": "display_data"
    }
   ],
   "source": [
    "sns.boxplot(y=bad_teams['OPS'])"
   ]
  },
  {
   "cell_type": "markdown",
   "metadata": {},
   "source": [
    "#### We see that the average is almost identical, however in this case, there are outliers bringing the average up. The scatterplot told us that there is a positive correlation between team catcher OPS and team wins but the boxplots say that the average amongst good and bad teams are similar. Let us use an OLS regression to prove our point that there is a positive correlation between team catcher OPS and team wins."
   ]
  },
  {
   "cell_type": "markdown",
   "metadata": {},
   "source": [
    "## Data Validation\n",
    "\n",
    "#### Our null hypothesis is that the average rate of change between cumulative team catchers OPS and total team wins is 0. Our alternate hypothesis is that the average rate of change between cumulative team catchers OPS and total team wins is not 0 and has an increasing slope."
   ]
  },
  {
   "cell_type": "code",
   "execution_count": 341,
   "metadata": {},
   "outputs": [
    {
     "name": "stdout",
     "output_type": "stream",
     "text": [
      "                                 OLS Regression Results                                \n",
      "=======================================================================================\n",
      "Dep. Variable:                    OPS   R-squared (uncentered):                   0.971\n",
      "Model:                            OLS   Adj. R-squared (uncentered):              0.970\n",
      "Method:                 Least Squares   F-statistic:                              985.2\n",
      "Date:                Sat, 23 Apr 2022   Prob (F-statistic):                    6.15e-24\n",
      "Time:                        12:16:08   Log-Likelihood:                         -185.67\n",
      "No. Observations:                  30   AIC:                                      373.3\n",
      "Df Residuals:                      29   BIC:                                      374.7\n",
      "Df Model:                           1                                                  \n",
      "Covariance Type:            nonrobust                                                  \n",
      "==============================================================================\n",
      "                 coef    std err          t      P>|t|      [0.025      0.975]\n",
      "------------------------------------------------------------------------------\n",
      "Wins           8.3619      0.266     31.388      0.000       7.817       8.907\n",
      "==============================================================================\n",
      "Omnibus:                        2.066   Durbin-Watson:                   1.609\n",
      "Prob(Omnibus):                  0.356   Jarque-Bera (JB):                1.872\n",
      "Skew:                           0.546   Prob(JB):                        0.392\n",
      "Kurtosis:                       2.447   Cond. No.                         1.00\n",
      "==============================================================================\n",
      "\n",
      "Notes:\n",
      "[1] R² is computed without centering (uncentered) since the model does not contain a constant.\n",
      "[2] Standard Errors assume that the covariance matrix of the errors is correctly specified.\n"
     ]
    }
   ],
   "source": [
    "x = df[['OPS']]\n",
    "y = df[['Wins']]\n",
    "regression = sm.OLS(x, y)\n",
    "results = regression.fit()\n",
    "print(results.summary())"
   ]
  },
  {
   "cell_type": "markdown",
   "metadata": {},
   "source": [
    "#### The R^2 is an analysis variable that tells us 97% of OPS explains Wins. \n",
    "#### The P (probability) value = 0 < 0.5 (the standard value for rejecting the null hypothesis) so we can reject our null hypothesis with statistically significant evidence to imply the average rate of change between cumulative team catchers OPS and total team wins is not 0."
   ]
  },
  {
   "cell_type": "markdown",
   "metadata": {},
   "source": [
    "## Predictions\n",
    "\n",
    "#### We are going to compare the predictions of the OLS regression to the actual results we inputted using a residual plot."
   ]
  },
  {
   "cell_type": "code",
   "execution_count": 342,
   "metadata": {},
   "outputs": [
    {
     "data": {
      "text/plain": [
       "<AxesSubplot:title={'center':'Data Distribution for Actual and Predicted OPS'}, xlabel='Predicted OPS', ylabel='Density'>"
      ]
     },
     "execution_count": 342,
     "metadata": {},
     "output_type": "execute_result"
    },
    {
     "data": {
      "image/png": "[encoded data removed]",
      "text/plain": [
       "<Figure size 936x720 with 1 Axes>"
      ]
     },
     "metadata": {
      "needs_background": "light"
     },
     "output_type": "display_data"
    }
   ],
   "source": [
    "df[\"Predicted OPS\"] = 1\n",
    "predictions = results.predict()\n",
    "df['Predicted OPS'] = pd.Series(predictions)\n",
    "\n",
    "warnings.filterwarnings('ignore')\n",
    "fig, ax = plt.subplots(figsize=(13,10))\n",
    "plt.title('Data Distribution for Actual and Predicted OPS')\n",
    "sns.distplot(df['OPS'], hist=False, label=\"Actual\", ax=ax)\n",
    "sns.distplot(df['Predicted OPS'], hist=False, label=\"Linear Regression Predictions\", ax=ax)"
   ]
  },
  {
   "cell_type": "markdown",
   "metadata": {},
   "source": [
    "#### It looks like the predictions (orange) expand farther than the actual values (blue) but don’t have as much density. We can observe that the actual values are more dense than the predicted meaning there are more actual OPS values between 600 and 800 than predicted OPS values."
   ]
  },
  {
   "cell_type": "code",
   "execution_count": 343,
   "metadata": {},
   "outputs": [
    {
     "data": {
      "text/plain": [
       "<AxesSubplot:>"
      ]
     },
     "execution_count": 343,
     "metadata": {},
     "output_type": "execute_result"
    },
    {
     "data": {
      "image/png": "[encoded data removed]",
      "text/plain": [
       "<Figure size 432x288 with 1 Axes>"
      ]
     },
     "metadata": {
      "needs_background": "light"
     },
     "output_type": "display_data"
    }
   ],
   "source": [
    "df['Residual'] = df['OPS'] - df['Predicted OPS']\n",
    "df['Residual'].plot()"
   ]
  },
  {
   "cell_type": "markdown",
   "metadata": {},
   "source": [
    "#### Accurate models have residual graphs close to 0, but since this is a liner regression there are a few severe outliers but overall the values are hovering around 0."
   ]
  }
 ],
 "metadata": {
  "interpreter": {
   "hash": "aee8b7b246df8f9039afb4144a1f6fd8d2ca17a180786b69acc140d282b71a49"
  },
  "kernelspec": {
   "display_name": "Python 3.10.2 64-bit",
   "language": "python",
   "name": "python3"
  },
  "language_info": {
   "codemirror_mode": {
    "name": "ipython",
    "version": 3
   },
   "file_extension": ".py",
   "mimetype": "text/x-python",
   "name": "python",
   "nbconvert_exporter": "python",
   "pygments_lexer": "ipython3",
   "version": "3.10.2"
  },
  "orig_nbformat": 4
 },
 "nbformat": 4,
 "nbformat_minor": 2
}
