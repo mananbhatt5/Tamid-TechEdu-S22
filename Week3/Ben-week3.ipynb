{
 "cells": [
  {
   "cell_type": "code",
   "execution_count": 1,
   "metadata": {},
   "outputs": [],
   "source": [
    "import json\n",
    "import csv\n",
    "import pandas as pd"
   ]
  },
  {
   "cell_type": "code",
   "execution_count": 2,
   "metadata": {},
   "outputs": [
    {
     "name": "stdout",
     "output_type": "stream",
     "text": [
      "{'Quarterback Names': [{'Age': 33, 'Career Passing TDs': 223, 'Career Passing Yards': 32593, 'Name': 'Kirk Cousins'}, {'Age': 38, 'Career Passing TDs': 449, 'Career Passing Yards': 55360, 'Name': 'Aaron Rodgers'}, {'Age': 44, 'Career Passing TDs': 624, 'Career Passing Yards': 84520, 'Name': 'Tom Brady'}, {'Age': 25, 'Career Passing TDs': 103, 'Career Passing Yards': 14114, 'Name': 'Josh Allen'}, {'Age': 26, 'Career Passing TDs': 104, 'Career Passing Yards': 14539, 'Name': 'Deshaun Watson'}, {'Age': 24, 'Career Passing TDs': 70, 'Career Passing Yards': 11480, 'Name': 'Kyler Murray'}, {'Age': 24, 'Career Passing TDs': 69, 'Career Passing Yards': 9350, 'Name': 'Justin Herbert'}, {'Age': 24, 'Career Passing TDs': 45, 'Career Passing Yards': 8398, 'Name': 'Daniel Jones'}]}\n"
     ]
    }
   ],
   "source": [
    "with open('nfl-quarterbacks-a3af2-default-rtdb-export.json') as json_file:\n",
    "    data = json.load(json_file)\n",
    "print(data)"
   ]
  },
  {
   "cell_type": "code",
   "execution_count": 3,
   "metadata": {},
   "outputs": [],
   "source": [
    "names = data['Quarterback Names']\n",
    "data_file = open('C:/Users/bflem/src/Tamid-TechEdu-S22/Week3/qb_csv.csv', 'w')\n",
    "csv_writer = csv.writer(data_file)\n",
    "csv_writer.writerow(names[0].keys())\n",
    "for name in names:\n",
    "    csv_writer.writerow(name.values())\n",
    "data_file.close()"
   ]
  },
  {
   "cell_type": "code",
   "execution_count": 4,
   "metadata": {},
   "outputs": [
    {
     "data": {
      "text/html": [
       "<div>\n",
       "<style scoped>\n",
       "    .dataframe tbody tr th:only-of-type {\n",
       "        vertical-align: middle;\n",
       "    }\n",
       "\n",
       "    .dataframe tbody tr th {\n",
       "        vertical-align: top;\n",
       "    }\n",
       "\n",
       "    .dataframe thead th {\n",
       "        text-align: right;\n",
       "    }\n",
       "</style>\n",
       "<table border=\"1\" class=\"dataframe\">\n",
       "  <thead>\n",
       "    <tr style=\"text-align: right;\">\n",
       "      <th></th>\n",
       "      <th>Age</th>\n",
       "      <th>Career Passing TDs</th>\n",
       "      <th>Career Passing Yards</th>\n",
       "      <th>Name</th>\n",
       "    </tr>\n",
       "  </thead>\n",
       "  <tbody>\n",
       "    <tr>\n",
       "      <th>0</th>\n",
       "      <td>33</td>\n",
       "      <td>223</td>\n",
       "      <td>32593</td>\n",
       "      <td>Kirk Cousins</td>\n",
       "    </tr>\n",
       "    <tr>\n",
       "      <th>1</th>\n",
       "      <td>38</td>\n",
       "      <td>449</td>\n",
       "      <td>55360</td>\n",
       "      <td>Aaron Rodgers</td>\n",
       "    </tr>\n",
       "    <tr>\n",
       "      <th>2</th>\n",
       "      <td>44</td>\n",
       "      <td>624</td>\n",
       "      <td>84520</td>\n",
       "      <td>Tom Brady</td>\n",
       "    </tr>\n",
       "    <tr>\n",
       "      <th>3</th>\n",
       "      <td>25</td>\n",
       "      <td>103</td>\n",
       "      <td>14114</td>\n",
       "      <td>Josh Allen</td>\n",
       "    </tr>\n",
       "    <tr>\n",
       "      <th>4</th>\n",
       "      <td>26</td>\n",
       "      <td>104</td>\n",
       "      <td>14539</td>\n",
       "      <td>Deshaun Watson</td>\n",
       "    </tr>\n",
       "    <tr>\n",
       "      <th>5</th>\n",
       "      <td>24</td>\n",
       "      <td>70</td>\n",
       "      <td>11480</td>\n",
       "      <td>Kyler Murray</td>\n",
       "    </tr>\n",
       "    <tr>\n",
       "      <th>6</th>\n",
       "      <td>24</td>\n",
       "      <td>69</td>\n",
       "      <td>9350</td>\n",
       "      <td>Justin Herbert</td>\n",
       "    </tr>\n",
       "    <tr>\n",
       "      <th>7</th>\n",
       "      <td>24</td>\n",
       "      <td>45</td>\n",
       "      <td>8398</td>\n",
       "      <td>Daniel Jones</td>\n",
       "    </tr>\n",
       "  </tbody>\n",
       "</table>\n",
       "</div>"
      ],
      "text/plain": [
       "   Age  Career Passing TDs  Career Passing Yards            Name\n",
       "0   33                 223                 32593    Kirk Cousins\n",
       "1   38                 449                 55360   Aaron Rodgers\n",
       "2   44                 624                 84520       Tom Brady\n",
       "3   25                 103                 14114      Josh Allen\n",
       "4   26                 104                 14539  Deshaun Watson\n",
       "5   24                  70                 11480    Kyler Murray\n",
       "6   24                  69                  9350  Justin Herbert\n",
       "7   24                  45                  8398    Daniel Jones"
      ]
     },
     "execution_count": 4,
     "metadata": {},
     "output_type": "execute_result"
    }
   ],
   "source": [
    "df = pd.read_csv('qb_csv.csv')\n",
    "df"
   ]
  },
  {
   "cell_type": "code",
   "execution_count": 5,
   "metadata": {},
   "outputs": [
    {
     "data": {
      "text/html": [
       "<div>\n",
       "<style scoped>\n",
       "    .dataframe tbody tr th:only-of-type {\n",
       "        vertical-align: middle;\n",
       "    }\n",
       "\n",
       "    .dataframe tbody tr th {\n",
       "        vertical-align: top;\n",
       "    }\n",
       "\n",
       "    .dataframe thead th {\n",
       "        text-align: right;\n",
       "    }\n",
       "</style>\n",
       "<table border=\"1\" class=\"dataframe\">\n",
       "  <thead>\n",
       "    <tr style=\"text-align: right;\">\n",
       "      <th></th>\n",
       "      <th>Age</th>\n",
       "      <th>Career Passing TDs</th>\n",
       "      <th>Career Passing Yards</th>\n",
       "    </tr>\n",
       "  </thead>\n",
       "  <tbody>\n",
       "    <tr>\n",
       "      <th>count</th>\n",
       "      <td>8.000000</td>\n",
       "      <td>8.000000</td>\n",
       "      <td>8.000000</td>\n",
       "    </tr>\n",
       "    <tr>\n",
       "      <th>mean</th>\n",
       "      <td>29.750000</td>\n",
       "      <td>210.875000</td>\n",
       "      <td>28794.250000</td>\n",
       "    </tr>\n",
       "    <tr>\n",
       "      <th>std</th>\n",
       "      <td>7.722879</td>\n",
       "      <td>213.163544</td>\n",
       "      <td>27615.005769</td>\n",
       "    </tr>\n",
       "    <tr>\n",
       "      <th>min</th>\n",
       "      <td>24.000000</td>\n",
       "      <td>45.000000</td>\n",
       "      <td>8398.000000</td>\n",
       "    </tr>\n",
       "    <tr>\n",
       "      <th>25%</th>\n",
       "      <td>24.000000</td>\n",
       "      <td>69.750000</td>\n",
       "      <td>10947.500000</td>\n",
       "    </tr>\n",
       "    <tr>\n",
       "      <th>50%</th>\n",
       "      <td>25.500000</td>\n",
       "      <td>103.500000</td>\n",
       "      <td>14326.500000</td>\n",
       "    </tr>\n",
       "    <tr>\n",
       "      <th>75%</th>\n",
       "      <td>34.250000</td>\n",
       "      <td>279.500000</td>\n",
       "      <td>38284.750000</td>\n",
       "    </tr>\n",
       "    <tr>\n",
       "      <th>max</th>\n",
       "      <td>44.000000</td>\n",
       "      <td>624.000000</td>\n",
       "      <td>84520.000000</td>\n",
       "    </tr>\n",
       "  </tbody>\n",
       "</table>\n",
       "</div>"
      ],
      "text/plain": [
       "             Age  Career Passing TDs  Career Passing Yards\n",
       "count   8.000000            8.000000              8.000000\n",
       "mean   29.750000          210.875000          28794.250000\n",
       "std     7.722879          213.163544          27615.005769\n",
       "min    24.000000           45.000000           8398.000000\n",
       "25%    24.000000           69.750000          10947.500000\n",
       "50%    25.500000          103.500000          14326.500000\n",
       "75%    34.250000          279.500000          38284.750000\n",
       "max    44.000000          624.000000          84520.000000"
      ]
     },
     "execution_count": 5,
     "metadata": {},
     "output_type": "execute_result"
    }
   ],
   "source": [
    "df.describe()"
   ]
  },
  {
   "cell_type": "code",
   "execution_count": 6,
   "metadata": {},
   "outputs": [
    {
     "data": {
      "text/plain": [
       "0      Kirk Cousins\n",
       "1     Aaron Rodgers\n",
       "2         Tom Brady\n",
       "3        Josh Allen\n",
       "4    Deshaun Watson\n",
       "5      Kyler Murray\n",
       "6    Justin Herbert\n",
       "7      Daniel Jones\n",
       "Name: Name, dtype: object"
      ]
     },
     "execution_count": 6,
     "metadata": {},
     "output_type": "execute_result"
    }
   ],
   "source": [
    "df['Name']"
   ]
  },
  {
   "cell_type": "code",
   "execution_count": null,
   "metadata": {},
   "outputs": [],
   "source": []
  }
 ],
 "metadata": {
  "interpreter": {
   "hash": "a3b97b55f397d02a71a51c8191dc6f02585535c13fae0ac3d25c0fcd8d5f6cf1"
  },
  "kernelspec": {
   "display_name": "Python 3.10.2 64-bit",
   "language": "python",
   "name": "python3"
  },
  "language_info": {
   "codemirror_mode": {
    "name": "ipython",
    "version": 3
   },
   "file_extension": ".py",
   "mimetype": "text/x-python",
   "name": "python",
   "nbconvert_exporter": "python",
   "pygments_lexer": "ipython3",
   "version": "3.9.7"
  },
  "orig_nbformat": 4
 },
 "nbformat": 4,
 "nbformat_minor": 2
}
