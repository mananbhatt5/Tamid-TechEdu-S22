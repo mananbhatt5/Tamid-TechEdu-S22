{
 "cells": [
  {
   "cell_type": "code",
   "execution_count": 7,
   "metadata": {},
   "outputs": [
    {
     "name": "stdout",
     "output_type": "stream",
     "text": [
      "{'Division Winners': [{'Division Winners': 'Atlanta Braves', 'Wins': 88, 'Losses': 73}, {'NL Central': 'Milwaukee Brewers', 'Wins': 95, 'Losses': 67}, {'NL West': 'San Francisco Giants', 'Wins': 107, 'Losses': 55}, {'AL East': 'Tampa Bay Rays', 'Wins': 100, 'Losses': 62}, {'AL Central': 'Chicago White Sox', 'Wins': 93, 'Losses': 69}, {'AL West': 'Houston Astros', 'Wins': 95, 'Losses': 67}]}\n"
     ]
    },
    {
     "data": {
      "text/html": [
       "<div>\n",
       "<style scoped>\n",
       "    .dataframe tbody tr th:only-of-type {\n",
       "        vertical-align: middle;\n",
       "    }\n",
       "\n",
       "    .dataframe tbody tr th {\n",
       "        vertical-align: top;\n",
       "    }\n",
       "\n",
       "    .dataframe thead th {\n",
       "        text-align: right;\n",
       "    }\n",
       "</style>\n",
       "<table border=\"1\" class=\"dataframe\">\n",
       "  <thead>\n",
       "    <tr style=\"text-align: right;\">\n",
       "      <th></th>\n",
       "      <th>Division Winners</th>\n",
       "      <th>Wins</th>\n",
       "      <th>Losses</th>\n",
       "    </tr>\n",
       "  </thead>\n",
       "  <tbody>\n",
       "    <tr>\n",
       "      <th>0</th>\n",
       "      <td>Atlanta Braves</td>\n",
       "      <td>88</td>\n",
       "      <td>73</td>\n",
       "    </tr>\n",
       "    <tr>\n",
       "      <th>1</th>\n",
       "      <td>Milwaukee Brewers</td>\n",
       "      <td>95</td>\n",
       "      <td>67</td>\n",
       "    </tr>\n",
       "    <tr>\n",
       "      <th>2</th>\n",
       "      <td>San Francisco Giants</td>\n",
       "      <td>107</td>\n",
       "      <td>55</td>\n",
       "    </tr>\n",
       "    <tr>\n",
       "      <th>3</th>\n",
       "      <td>Tampa Bay Rays</td>\n",
       "      <td>100</td>\n",
       "      <td>62</td>\n",
       "    </tr>\n",
       "    <tr>\n",
       "      <th>4</th>\n",
       "      <td>Chicago White Sox</td>\n",
       "      <td>93</td>\n",
       "      <td>69</td>\n",
       "    </tr>\n",
       "    <tr>\n",
       "      <th>5</th>\n",
       "      <td>Houston Astros</td>\n",
       "      <td>95</td>\n",
       "      <td>67</td>\n",
       "    </tr>\n",
       "  </tbody>\n",
       "</table>\n",
       "</div>"
      ],
      "text/plain": [
       "       Division Winners  Wins  Losses\n",
       "0        Atlanta Braves    88      73\n",
       "1     Milwaukee Brewers    95      67\n",
       "2  San Francisco Giants   107      55\n",
       "3        Tampa Bay Rays   100      62\n",
       "4     Chicago White Sox    93      69\n",
       "5        Houston Astros    95      67"
      ]
     },
     "execution_count": 7,
     "metadata": {},
     "output_type": "execute_result"
    }
   ],
   "source": [
    "import json\n",
    "import csv\n",
    "import pandas as pd\n",
    "with open('mlb_divisions.json') as json_file:\n",
    "    data = json.load(json_file)\n",
    "    print(data)\n",
    "divisions = data['Division Winners']\n",
    "data_file = open('/Users/joshleeman/src/Tamid-TechEdu-S22/Week3/mlb_divisions.csv', 'w')\n",
    "csv_writer = csv.writer(data_file)\n",
    "csv_writer.writerow(divisions[0].keys())\n",
    "for div in divisions:\n",
    "    csv_writer.writerow(div.values())\n",
    "data_file.close()\n",
    "df = pd.read_csv('mlb_divisions.csv')\n",
    "df\n",
    "#df.describe()\n",
    "#df['Wins']\n"
   ]
  }
 ],
 "metadata": {
  "interpreter": {
   "hash": "aee8b7b246df8f9039afb4144a1f6fd8d2ca17a180786b69acc140d282b71a49"
  },
  "kernelspec": {
   "display_name": "Python 3.10.2 64-bit",
   "language": "python",
   "name": "python3"
  },
  "language_info": {
   "codemirror_mode": {
    "name": "ipython",
    "version": 3
   },
   "file_extension": ".py",
   "mimetype": "text/x-python",
   "name": "python",
   "nbconvert_exporter": "python",
   "pygments_lexer": "ipython3",
   "version": "3.10.2"
  },
  "orig_nbformat": 4
 },
 "nbformat": 4,
 "nbformat_minor": 2
}
