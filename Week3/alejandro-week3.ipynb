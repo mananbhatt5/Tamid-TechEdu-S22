{
 "cells": [
  {
   "cell_type": "code",
   "execution_count": 2,
   "metadata": {},
   "outputs": [],
   "source": [
    "# -----------------------------------------------------------\n",
    "# demonstrates how to implement a constructed database (via\n",
    "# firebase) into our code + convert the file into a readable\n",
    "# CSV file/data frame\n",
    "#\n",
    "# 28 March 2022, Alejandro Echaniz\n",
    "# -----------------------------------------------------------\n",
    "\n",
    "# importing statements\n",
    "import json\n",
    "import csv\n",
    "import pandas as pd"
   ]
  },
  {
   "cell_type": "code",
   "execution_count": 3,
   "metadata": {},
   "outputs": [
    {
     "name": "stdout",
     "output_type": "stream",
     "text": [
      "{'Top 10 FO Songs': [{'Length': '3:20', 'Streams': 495175000, 'Title': 'Thinking Bout You'}, {'Length': '3:30', 'Streams': 376479000, 'Title': 'Chanel'}, {'Length': '5:07', 'Streams': 322024000, 'Title': 'Nights'}, {'Length': '3:04', 'Streams': 320497000, 'Title': 'Pink + White'}, {'Length': '4:09', 'Streams': 308399000, 'Title': 'Ivy'}, {'Length': '3:54', 'Streams': 295521000, 'Title': 'Lost'}, {'Length': '4:09', 'Streams': 198656000, 'Title': 'Self Control'}, {'Length': '5:04', 'Streams': 179926000, 'Title': 'Super Rich Kids'}, {'Length': '5:14', 'Streams': 179478000, 'Title': 'Nikes'}, {'Length': '5:02', 'Streams': 165193000, 'Title': 'Novacane'}]}\n"
     ]
    }
   ],
   "source": [
    "# implementing the Json file into program\n",
    "with open('ae_dataset.json') as json_file:\n",
    "    data = json.load(json_file)\n",
    "print(data)"
   ]
  },
  {
   "cell_type": "code",
   "execution_count": 4,
   "metadata": {},
   "outputs": [],
   "source": [
    "# converting JSON --> CSV in order to create a dataframe\n",
    "songList = data['Top 10 FO Songs']\n",
    "data_file = open('C:/Users/aecha/OneDrive/Documents/Github/Tamid-TechEdu-S22/Week3/fo_csv.csv', 'w')\n",
    "csv_writer = csv.writer(data_file)\n",
    "csv_writer.writerow(songList[0].keys())\n",
    "# constructing the rows within dataframe via for each loop\n",
    "for song in songList:\n",
    "    csv_writer.writerow(song.values())\n",
    "data_file.close()"
   ]
  },
  {
   "cell_type": "code",
   "execution_count": 5,
   "metadata": {},
   "outputs": [
    {
     "data": {
      "text/html": [
       "<div>\n",
       "<style scoped>\n",
       "    .dataframe tbody tr th:only-of-type {\n",
       "        vertical-align: middle;\n",
       "    }\n",
       "\n",
       "    .dataframe tbody tr th {\n",
       "        vertical-align: top;\n",
       "    }\n",
       "\n",
       "    .dataframe thead th {\n",
       "        text-align: right;\n",
       "    }\n",
       "</style>\n",
       "<table border=\"1\" class=\"dataframe\">\n",
       "  <thead>\n",
       "    <tr style=\"text-align: right;\">\n",
       "      <th></th>\n",
       "      <th>Length</th>\n",
       "      <th>Streams</th>\n",
       "      <th>Title</th>\n",
       "    </tr>\n",
       "  </thead>\n",
       "  <tbody>\n",
       "    <tr>\n",
       "      <th>0</th>\n",
       "      <td>3:20</td>\n",
       "      <td>495175000</td>\n",
       "      <td>Thinking Bout You</td>\n",
       "    </tr>\n",
       "    <tr>\n",
       "      <th>1</th>\n",
       "      <td>3:30</td>\n",
       "      <td>376479000</td>\n",
       "      <td>Chanel</td>\n",
       "    </tr>\n",
       "    <tr>\n",
       "      <th>2</th>\n",
       "      <td>5:07</td>\n",
       "      <td>322024000</td>\n",
       "      <td>Nights</td>\n",
       "    </tr>\n",
       "    <tr>\n",
       "      <th>3</th>\n",
       "      <td>3:04</td>\n",
       "      <td>320497000</td>\n",
       "      <td>Pink + White</td>\n",
       "    </tr>\n",
       "    <tr>\n",
       "      <th>4</th>\n",
       "      <td>4:09</td>\n",
       "      <td>308399000</td>\n",
       "      <td>Ivy</td>\n",
       "    </tr>\n",
       "    <tr>\n",
       "      <th>5</th>\n",
       "      <td>3:54</td>\n",
       "      <td>295521000</td>\n",
       "      <td>Lost</td>\n",
       "    </tr>\n",
       "    <tr>\n",
       "      <th>6</th>\n",
       "      <td>4:09</td>\n",
       "      <td>198656000</td>\n",
       "      <td>Self Control</td>\n",
       "    </tr>\n",
       "    <tr>\n",
       "      <th>7</th>\n",
       "      <td>5:04</td>\n",
       "      <td>179926000</td>\n",
       "      <td>Super Rich Kids</td>\n",
       "    </tr>\n",
       "    <tr>\n",
       "      <th>8</th>\n",
       "      <td>5:14</td>\n",
       "      <td>179478000</td>\n",
       "      <td>Nikes</td>\n",
       "    </tr>\n",
       "    <tr>\n",
       "      <th>9</th>\n",
       "      <td>5:02</td>\n",
       "      <td>165193000</td>\n",
       "      <td>Novacane</td>\n",
       "    </tr>\n",
       "  </tbody>\n",
       "</table>\n",
       "</div>"
      ],
      "text/plain": [
       "  Length    Streams              Title\n",
       "0   3:20  495175000  Thinking Bout You\n",
       "1   3:30  376479000             Chanel\n",
       "2   5:07  322024000             Nights\n",
       "3   3:04  320497000       Pink + White\n",
       "4   4:09  308399000                Ivy\n",
       "5   3:54  295521000               Lost\n",
       "6   4:09  198656000       Self Control\n",
       "7   5:04  179926000    Super Rich Kids\n",
       "8   5:14  179478000              Nikes\n",
       "9   5:02  165193000           Novacane"
      ]
     },
     "execution_count": 5,
     "metadata": {},
     "output_type": "execute_result"
    }
   ],
   "source": [
    "\n",
    "# printing out the entire data frame\n",
    "df = pd.read_csv('fo_csv.csv')\n",
    "df"
   ]
  },
  {
   "cell_type": "code",
   "execution_count": 6,
   "metadata": {},
   "outputs": [
    {
     "data": {
      "text/html": [
       "<div>\n",
       "<style scoped>\n",
       "    .dataframe tbody tr th:only-of-type {\n",
       "        vertical-align: middle;\n",
       "    }\n",
       "\n",
       "    .dataframe tbody tr th {\n",
       "        vertical-align: top;\n",
       "    }\n",
       "\n",
       "    .dataframe thead th {\n",
       "        text-align: right;\n",
       "    }\n",
       "</style>\n",
       "<table border=\"1\" class=\"dataframe\">\n",
       "  <thead>\n",
       "    <tr style=\"text-align: right;\">\n",
       "      <th></th>\n",
       "      <th>Streams</th>\n",
       "    </tr>\n",
       "  </thead>\n",
       "  <tbody>\n",
       "    <tr>\n",
       "      <th>count</th>\n",
       "      <td>1.000000e+01</td>\n",
       "    </tr>\n",
       "    <tr>\n",
       "      <th>mean</th>\n",
       "      <td>2.841348e+08</td>\n",
       "    </tr>\n",
       "    <tr>\n",
       "      <th>std</th>\n",
       "      <td>1.053080e+08</td>\n",
       "    </tr>\n",
       "    <tr>\n",
       "      <th>min</th>\n",
       "      <td>1.651930e+08</td>\n",
       "    </tr>\n",
       "    <tr>\n",
       "      <th>25%</th>\n",
       "      <td>1.846085e+08</td>\n",
       "    </tr>\n",
       "    <tr>\n",
       "      <th>50%</th>\n",
       "      <td>3.019600e+08</td>\n",
       "    </tr>\n",
       "    <tr>\n",
       "      <th>75%</th>\n",
       "      <td>3.216422e+08</td>\n",
       "    </tr>\n",
       "    <tr>\n",
       "      <th>max</th>\n",
       "      <td>4.951750e+08</td>\n",
       "    </tr>\n",
       "  </tbody>\n",
       "</table>\n",
       "</div>"
      ],
      "text/plain": [
       "            Streams\n",
       "count  1.000000e+01\n",
       "mean   2.841348e+08\n",
       "std    1.053080e+08\n",
       "min    1.651930e+08\n",
       "25%    1.846085e+08\n",
       "50%    3.019600e+08\n",
       "75%    3.216422e+08\n",
       "max    4.951750e+08"
      ]
     },
     "execution_count": 6,
     "metadata": {},
     "output_type": "execute_result"
    }
   ],
   "source": [
    "# computes + displaying the summary statistics of the dataframe\n",
    "df.describe()"
   ]
  },
  {
   "cell_type": "code",
   "execution_count": 7,
   "metadata": {},
   "outputs": [
    {
     "data": {
      "text/plain": [
       "0    Thinking Bout You\n",
       "1               Chanel\n",
       "2               Nights\n",
       "3         Pink + White\n",
       "4                  Ivy\n",
       "5                 Lost\n",
       "6         Self Control\n",
       "7      Super Rich Kids\n",
       "8                Nikes\n",
       "9             Novacane\n",
       "Name: Title, dtype: object"
      ]
     },
     "execution_count": 7,
     "metadata": {},
     "output_type": "execute_result"
    }
   ],
   "source": [
    "# accessing specific columns of dataframe via df variable\n",
    "df['Title']"
   ]
  }
 ],
 "metadata": {
  "interpreter": {
   "hash": "bfbc0023457b2b29a20d2c5f7f5f5454431276afacd1dc437e0c9566d81b4294"
  },
  "kernelspec": {
   "display_name": "Python 3.10.1 64-bit",
   "language": "python",
   "name": "python3"
  },
  "language_info": {
   "codemirror_mode": {
    "name": "ipython",
    "version": 3
   },
   "file_extension": ".py",
   "mimetype": "text/x-python",
   "name": "python",
   "nbconvert_exporter": "python",
   "pygments_lexer": "ipython3",
   "version": "3.10.1"
  },
  "orig_nbformat": 4
 },
 "nbformat": 4,
 "nbformat_minor": 2
}
