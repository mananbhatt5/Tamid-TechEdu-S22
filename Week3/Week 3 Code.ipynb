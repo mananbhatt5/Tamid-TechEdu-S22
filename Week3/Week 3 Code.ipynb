{
 "cells": [
  {
   "cell_type": "markdown",
   "id": "e8e1d365",
   "metadata": {},
   "source": [
    "### Importing Libraries ###"
   ]
  },
  {
   "cell_type": "code",
   "execution_count": 1,
   "id": "6f016fe0",
   "metadata": {},
   "outputs": [],
   "source": [
    "import json\n",
    "import csv\n",
    "import pandas as pd"
   ]
  },
  {
   "cell_type": "markdown",
   "id": "e858c75b",
   "metadata": {},
   "source": [
    "### Putting the rb_data Json File Into The Program ###"
   ]
  },
  {
   "cell_type": "code",
   "execution_count": 2,
   "id": "a8de1233",
   "metadata": {},
   "outputs": [
    {
     "name": "stdout",
     "output_type": "stream",
     "text": [
      "{'Running Backs': [{'Name': 'Saquon Barkley', 'Rookie Rec TDs': 4, 'Rookie Rush TDs': 11, 'Rookie Rush Yards': 1307, 'Team': 'New York Giants'}, {'Name': 'Ezekiel Elliot', 'Rookie Rec TDs': 1, 'Rookie Rush TDs': 15, 'Rookie Rush Yards': 1631, 'Team': 'Dallas Cowboys'}, {'Name': 'Christian McCaffrey', 'Rookie Rec TDs': 5, 'Rookie Rush TDs': 2, 'Rookie Rush Yards': 435, 'Team': 'Carolina Panthers'}, {'Name': 'Derrick Henry', 'Rookie Rec TDs': 0, 'Rookie Rush TDs': 5, 'Rookie Rush Yards': 490, 'Team': 'Tennessee Titans'}, {'Name': 'Miles Sanders', 'Rookie Rec TDs': 3, 'Rookie Rush TDs': 3, 'Rookie Rush Yards': 818, 'Team': 'Philadelphia Eagles'}, {'Name': 'Antonio Gibson', 'Rookie Rec TDs': 0, 'Rookie Rush TDs': 11, 'Rookie Rush Yards': 795, 'Team': 'Washington Football Team'}, {'Name': 'Dalvin Cook', 'Rookie Rec TDs': 0, 'Rookie Rush TDs': 2, 'Rookie Rush Yards': 354, 'Team': 'Minnesota Vikings'}, {'Name': 'Alvin Kamara', 'Rookie Rec TDs': 5, 'Rookie Rush TDs': 8, 'Rookie Rush Yards': 728, 'Team': 'New Orleans Saints'}]}\n"
     ]
    }
   ],
   "source": [
    "with open('rb_data.json') as json_file:\n",
    "    data = json.load(json_file)\n",
    "print(data)"
   ]
  },
  {
   "cell_type": "markdown",
   "id": "c005e000",
   "metadata": {},
   "source": [
    "### Converting JSON to CSV ###\n",
    "Note: The data_file = open() part must contain your EXACT path to this folder. It should be users, username, src, Tamid-TechEdu-S22, Week3, filename.csv. The w stands for WRITE, which is what we are doing here."
   ]
  },
  {
   "cell_type": "code",
   "execution_count": 5,
   "id": "9738e7da",
   "metadata": {},
   "outputs": [],
   "source": [
    "names = data['Running Backs']\n",
    "data_file = open('C:/Users/Bhatt/src/Tamid-TechEdu-S22/Week3/rb_csv.csv', 'w')\n",
    "csv_writer = csv.writer(data_file)\n",
    "csv_writer.writerow(names[0].keys())\n",
    "for name in names:\n",
    "    csv_writer.writerow(name.values())\n",
    "data_file.close()"
   ]
  },
  {
   "cell_type": "code",
   "execution_count": 7,
   "id": "5f804b62",
   "metadata": {},
   "outputs": [
    {
     "data": {
      "text/html": [
       "<div>\n",
       "<style scoped>\n",
       "    .dataframe tbody tr th:only-of-type {\n",
       "        vertical-align: middle;\n",
       "    }\n",
       "\n",
       "    .dataframe tbody tr th {\n",
       "        vertical-align: top;\n",
       "    }\n",
       "\n",
       "    .dataframe thead th {\n",
       "        text-align: right;\n",
       "    }\n",
       "</style>\n",
       "<table border=\"1\" class=\"dataframe\">\n",
       "  <thead>\n",
       "    <tr style=\"text-align: right;\">\n",
       "      <th></th>\n",
       "      <th>Name</th>\n",
       "      <th>Rookie Rec TDs</th>\n",
       "      <th>Rookie Rush TDs</th>\n",
       "      <th>Rookie Rush Yards</th>\n",
       "      <th>Team</th>\n",
       "    </tr>\n",
       "  </thead>\n",
       "  <tbody>\n",
       "    <tr>\n",
       "      <th>0</th>\n",
       "      <td>Saquon Barkley</td>\n",
       "      <td>4</td>\n",
       "      <td>11</td>\n",
       "      <td>1307</td>\n",
       "      <td>New York Giants</td>\n",
       "    </tr>\n",
       "    <tr>\n",
       "      <th>1</th>\n",
       "      <td>Ezekiel Elliot</td>\n",
       "      <td>1</td>\n",
       "      <td>15</td>\n",
       "      <td>1631</td>\n",
       "      <td>Dallas Cowboys</td>\n",
       "    </tr>\n",
       "    <tr>\n",
       "      <th>2</th>\n",
       "      <td>Christian McCaffrey</td>\n",
       "      <td>5</td>\n",
       "      <td>2</td>\n",
       "      <td>435</td>\n",
       "      <td>Carolina Panthers</td>\n",
       "    </tr>\n",
       "    <tr>\n",
       "      <th>3</th>\n",
       "      <td>Derrick Henry</td>\n",
       "      <td>0</td>\n",
       "      <td>5</td>\n",
       "      <td>490</td>\n",
       "      <td>Tennessee Titans</td>\n",
       "    </tr>\n",
       "    <tr>\n",
       "      <th>4</th>\n",
       "      <td>Miles Sanders</td>\n",
       "      <td>3</td>\n",
       "      <td>3</td>\n",
       "      <td>818</td>\n",
       "      <td>Philadelphia Eagles</td>\n",
       "    </tr>\n",
       "    <tr>\n",
       "      <th>5</th>\n",
       "      <td>Antonio Gibson</td>\n",
       "      <td>0</td>\n",
       "      <td>11</td>\n",
       "      <td>795</td>\n",
       "      <td>Washington Football Team</td>\n",
       "    </tr>\n",
       "    <tr>\n",
       "      <th>6</th>\n",
       "      <td>Dalvin Cook</td>\n",
       "      <td>0</td>\n",
       "      <td>2</td>\n",
       "      <td>354</td>\n",
       "      <td>Minnesota Vikings</td>\n",
       "    </tr>\n",
       "    <tr>\n",
       "      <th>7</th>\n",
       "      <td>Alvin Kamara</td>\n",
       "      <td>5</td>\n",
       "      <td>8</td>\n",
       "      <td>728</td>\n",
       "      <td>New Orleans Saints</td>\n",
       "    </tr>\n",
       "  </tbody>\n",
       "</table>\n",
       "</div>"
      ],
      "text/plain": [
       "                  Name  Rookie Rec TDs  Rookie Rush TDs  Rookie Rush Yards  \\\n",
       "0       Saquon Barkley               4               11               1307   \n",
       "1       Ezekiel Elliot               1               15               1631   \n",
       "2  Christian McCaffrey               5                2                435   \n",
       "3        Derrick Henry               0                5                490   \n",
       "4        Miles Sanders               3                3                818   \n",
       "5       Antonio Gibson               0               11                795   \n",
       "6          Dalvin Cook               0                2                354   \n",
       "7         Alvin Kamara               5                8                728   \n",
       "\n",
       "                       Team  \n",
       "0           New York Giants  \n",
       "1            Dallas Cowboys  \n",
       "2         Carolina Panthers  \n",
       "3          Tennessee Titans  \n",
       "4       Philadelphia Eagles  \n",
       "5  Washington Football Team  \n",
       "6         Minnesota Vikings  \n",
       "7        New Orleans Saints  "
      ]
     },
     "execution_count": 7,
     "metadata": {},
     "output_type": "execute_result"
    }
   ],
   "source": [
    "df = pd.read_csv('rb_csv.csv')\n",
    "df"
   ]
  },
  {
   "cell_type": "code",
   "execution_count": 8,
   "id": "b65ed48c",
   "metadata": {},
   "outputs": [
    {
     "data": {
      "text/html": [
       "<div>\n",
       "<style scoped>\n",
       "    .dataframe tbody tr th:only-of-type {\n",
       "        vertical-align: middle;\n",
       "    }\n",
       "\n",
       "    .dataframe tbody tr th {\n",
       "        vertical-align: top;\n",
       "    }\n",
       "\n",
       "    .dataframe thead th {\n",
       "        text-align: right;\n",
       "    }\n",
       "</style>\n",
       "<table border=\"1\" class=\"dataframe\">\n",
       "  <thead>\n",
       "    <tr style=\"text-align: right;\">\n",
       "      <th></th>\n",
       "      <th>Rookie Rec TDs</th>\n",
       "      <th>Rookie Rush TDs</th>\n",
       "      <th>Rookie Rush Yards</th>\n",
       "    </tr>\n",
       "  </thead>\n",
       "  <tbody>\n",
       "    <tr>\n",
       "      <th>count</th>\n",
       "      <td>8.000000</td>\n",
       "      <td>8.000000</td>\n",
       "      <td>8.000000</td>\n",
       "    </tr>\n",
       "    <tr>\n",
       "      <th>mean</th>\n",
       "      <td>2.250000</td>\n",
       "      <td>7.125000</td>\n",
       "      <td>819.750000</td>\n",
       "    </tr>\n",
       "    <tr>\n",
       "      <th>std</th>\n",
       "      <td>2.251983</td>\n",
       "      <td>4.882549</td>\n",
       "      <td>443.728279</td>\n",
       "    </tr>\n",
       "    <tr>\n",
       "      <th>min</th>\n",
       "      <td>0.000000</td>\n",
       "      <td>2.000000</td>\n",
       "      <td>354.000000</td>\n",
       "    </tr>\n",
       "    <tr>\n",
       "      <th>25%</th>\n",
       "      <td>0.000000</td>\n",
       "      <td>2.750000</td>\n",
       "      <td>476.250000</td>\n",
       "    </tr>\n",
       "    <tr>\n",
       "      <th>50%</th>\n",
       "      <td>2.000000</td>\n",
       "      <td>6.500000</td>\n",
       "      <td>761.500000</td>\n",
       "    </tr>\n",
       "    <tr>\n",
       "      <th>75%</th>\n",
       "      <td>4.250000</td>\n",
       "      <td>11.000000</td>\n",
       "      <td>940.250000</td>\n",
       "    </tr>\n",
       "    <tr>\n",
       "      <th>max</th>\n",
       "      <td>5.000000</td>\n",
       "      <td>15.000000</td>\n",
       "      <td>1631.000000</td>\n",
       "    </tr>\n",
       "  </tbody>\n",
       "</table>\n",
       "</div>"
      ],
      "text/plain": [
       "       Rookie Rec TDs  Rookie Rush TDs  Rookie Rush Yards\n",
       "count        8.000000         8.000000           8.000000\n",
       "mean         2.250000         7.125000         819.750000\n",
       "std          2.251983         4.882549         443.728279\n",
       "min          0.000000         2.000000         354.000000\n",
       "25%          0.000000         2.750000         476.250000\n",
       "50%          2.000000         6.500000         761.500000\n",
       "75%          4.250000        11.000000         940.250000\n",
       "max          5.000000        15.000000        1631.000000"
      ]
     },
     "execution_count": 8,
     "metadata": {},
     "output_type": "execute_result"
    }
   ],
   "source": [
    "df.describe()"
   ]
  },
  {
   "cell_type": "code",
   "execution_count": 9,
   "id": "40655da4",
   "metadata": {},
   "outputs": [
    {
     "data": {
      "text/plain": [
       "0             New York Giants\n",
       "1              Dallas Cowboys\n",
       "2           Carolina Panthers\n",
       "3            Tennessee Titans\n",
       "4         Philadelphia Eagles\n",
       "5    Washington Football Team\n",
       "6           Minnesota Vikings\n",
       "7          New Orleans Saints\n",
       "Name: Team, dtype: object"
      ]
     },
     "execution_count": 9,
     "metadata": {},
     "output_type": "execute_result"
    }
   ],
   "source": [
    "df['Team']"
   ]
  },
  {
   "cell_type": "code",
   "execution_count": null,
   "id": "5d005477",
   "metadata": {},
   "outputs": [],
   "source": []
  }
 ],
 "metadata": {
  "kernelspec": {
   "display_name": "Python 3",
   "language": "python",
   "name": "python3"
  },
  "language_info": {
   "codemirror_mode": {
    "name": "ipython",
    "version": 3
   },
   "file_extension": ".py",
   "mimetype": "text/x-python",
   "name": "python",
   "nbconvert_exporter": "python",
   "pygments_lexer": "ipython3",
   "version": "3.9.4"
  }
 },
 "nbformat": 4,
 "nbformat_minor": 5
}
