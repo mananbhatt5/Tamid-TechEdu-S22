{
 "cells": [
  {
   "cell_type": "code",
   "execution_count": 13,
   "metadata": {},
   "outputs": [
    {
     "data": {
      "text/plain": [
       "0                                   Two\n",
       "1                               444+222\n",
       "2                           Sauce it up\n",
       "3                         No Sleep Leak\n",
       "4     The Way Life Goes(feat.Oh Wonder)\n",
       "5                              For Real\n",
       "6                      Feeling's Mutual\n",
       "7     Neon Guts(feat.Pharrell Williams)\n",
       "8                        Early 20 Rager\n",
       "9              Unfazed(feat.The Weeknd)\n",
       "10                         Pretty Miami\n",
       "11                          How to Talk\n",
       "12                                    X\n",
       "13                          Malfunction\n",
       "14                           Dark Queen\n",
       "15                         XO Tour Lif3\n",
       "Name: Name, dtype: object"
      ]
     },
     "execution_count": 13,
     "metadata": {},
     "output_type": "execute_result"
    }
   ],
   "source": [
    "import json\n",
    "import csv\n",
    "import pandas as pd\n",
    "\n",
    "with open('luvisrage_data.json') as json_file:\n",
    "    data = json.load(json_file)\n",
    "\n",
    "songData = data['Luv is Rage 2']\n",
    "data_file = open('/Users/GouthamKorada/Downloads/csv_luvisrage2.csv','w')\n",
    "csv_writer = csv.writer(data_file)\n",
    "csv_writer.writerow(songData[0].keys())\n",
    "for song in songData:\n",
    "    csv_writer.writerow(song.values())\n",
    "data_file.close()\n",
    "\n",
    "df = pd.read_csv('csv_luvisrage2.csv')\n",
    "df\n",
    "df['Name']\n",
    "\n",
    "\n",
    "\n",
    "\n",
    "\n"
   ]
  }
 ],
 "metadata": {
  "interpreter": {
   "hash": "e774977668b7c0ae8309835a5187aa7fbf7669e7d0bb59755bc63e573643edcd"
  },
  "kernelspec": {
   "display_name": "Python 3.7.1 64-bit",
   "language": "python",
   "name": "python3"
  },
  "language_info": {
   "codemirror_mode": {
    "name": "ipython",
    "version": 3
   },
   "file_extension": ".py",
   "mimetype": "text/x-python",
   "name": "python",
   "nbconvert_exporter": "python",
   "pygments_lexer": "ipython3",
   "version": "3.8.1"
  },
  "orig_nbformat": 4
 },
 "nbformat": 4,
 "nbformat_minor": 2
}
