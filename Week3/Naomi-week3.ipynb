{
 "cells": [
  {
   "cell_type": "code",
   "execution_count": 10,
   "metadata": {},
   "outputs": [
    {
     "name": "stdout",
     "output_type": "stream",
     "text": [
      "{'One Direction Albums': {'Four': {'Release Year': 2014, 'Songs': 17, 'US Sales': '1,064,000['}, 'Made in the AM': {'Release Year': 2015, 'Songs': 12, 'US Sales': '853,000'}, 'Midnight Memories': {'Release Year': 2013, 'Songs': 25, 'US Sales': '1,552,000'}, 'Take Me Home': {'Release Year': 2012, 'Songs': 9, 'US Sales': '2,043,000['}, 'Up All Night': {'Release Year': 2011, 'Songs': 18, 'US Sales': '2,095,000'}}}\n"
     ]
    }
   ],
   "source": [
    "import json\n",
    "import csv\n",
    "import pandas as pd\n",
    "with open('OneD.json') as json_file:\n",
    "    data = json.load(json_file)\n",
    "print(data)\n"
   ]
  },
  {
   "cell_type": "code",
   "execution_count": 11,
   "metadata": {},
   "outputs": [
    {
     "ename": "AttributeError",
     "evalue": "'str' object has no attribute 'values'",
     "output_type": "error",
     "traceback": [
      "\u001b[0;31m---------------------------------------------------------------------------\u001b[0m",
      "\u001b[0;31mAttributeError\u001b[0m                            Traceback (most recent call last)",
      "\u001b[1;32m/Users/NaomiRosenbaum_1/src/Tamid-TechEdu-S22/Week3/Naomi-week3.ipynb Cell 2'\u001b[0m in \u001b[0;36m<cell line: 5>\u001b[0;34m()\u001b[0m\n\u001b[1;32m      <a href='vscode-notebook-cell:/Users/NaomiRosenbaum_1/src/Tamid-TechEdu-S22/Week3/Naomi-week3.ipynb#ch0000001?line=3'>4</a>\u001b[0m csv_writer\u001b[39m.\u001b[39mwriterow(names\u001b[39m.\u001b[39mkeys())\n\u001b[1;32m      <a href='vscode-notebook-cell:/Users/NaomiRosenbaum_1/src/Tamid-TechEdu-S22/Week3/Naomi-week3.ipynb#ch0000001?line=4'>5</a>\u001b[0m \u001b[39mfor\u001b[39;00m name \u001b[39min\u001b[39;00m names:\n\u001b[0;32m----> <a href='vscode-notebook-cell:/Users/NaomiRosenbaum_1/src/Tamid-TechEdu-S22/Week3/Naomi-week3.ipynb#ch0000001?line=5'>6</a>\u001b[0m     csv_writer\u001b[39m.\u001b[39mwriterow(name\u001b[39m.\u001b[39;49mvalues())\n\u001b[1;32m      <a href='vscode-notebook-cell:/Users/NaomiRosenbaum_1/src/Tamid-TechEdu-S22/Week3/Naomi-week3.ipynb#ch0000001?line=6'>7</a>\u001b[0m data_file\u001b[39m.\u001b[39mclose()\n",
      "\u001b[0;31mAttributeError\u001b[0m: 'str' object has no attribute 'values'"
     ]
    }
   ],
   "source": [
    "names = data['One Direction Albums']\n",
    "data_file = open('./OneD.csv', 'w')\n",
    "csv_writer = csv.writer(data_file)\n",
    "csv_writer.writerow(names[0].keys())\n",
    "for name in names:\n",
    "    csv_writer.writerow(name.values())\n",
    "data_file.close()"
   ]
  }
 ],
 "metadata": {
  "interpreter": {
   "hash": "aee8b7b246df8f9039afb4144a1f6fd8d2ca17a180786b69acc140d282b71a49"
  },
  "kernelspec": {
   "display_name": "Python 3.10.2 64-bit",
   "language": "python",
   "name": "python3"
  },
  "language_info": {
   "name": "python",
   "version": "3.10.2"
  },
  "orig_nbformat": 4
 },
 "nbformat": 4,
 "nbformat_minor": 2
}
