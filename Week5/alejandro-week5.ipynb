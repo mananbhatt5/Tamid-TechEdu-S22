{
 "cells": [
  {
   "cell_type": "code",
   "execution_count": 1,
   "metadata": {},
   "outputs": [],
   "source": [
    "# -----------------------------------------------------------\n",
    "# demonstrates data cleaing / \"tidying\" by taking a large\n",
    "# CSV file and compressing the dataframe into something\n",
    "# more manageable and \"cleaner\" to work with\n",
    "#\n",
    "# NOTE: CSV file provided displays a daily record of the top\n",
    "#       trending YouTube videos from a variety of regions\n",
    "#       (Specifically USA)\n",
    "#           - the data does NOT represent the most-viewed\n",
    "#             videos overall for the calendar year\n",
    "#\n",
    "# 4 April 2022, Alejandro Echaniz\n",
    "# -----------------------------------------------------------\n",
    "\n",
    "# import statements for accessing csv files\n",
    "import pandas as pd\n",
    "import numpy as np\n",
    "import matplotlib.pyplot as plt"
   ]
  }
 ],
 "metadata": {
  "interpreter": {
   "hash": "bfbc0023457b2b29a20d2c5f7f5f5454431276afacd1dc437e0c9566d81b4294"
  },
  "kernelspec": {
   "display_name": "Python 3.10.1 64-bit",
   "language": "python",
   "name": "python3"
  },
  "language_info": {
   "codemirror_mode": {
    "name": "ipython",
    "version": 3
   },
   "file_extension": ".py",
   "mimetype": "text/x-python",
   "name": "python",
   "nbconvert_exporter": "python",
   "pygments_lexer": "ipython3",
   "version": "3.8.5"
  },
  "orig_nbformat": 4
 },
 "nbformat": 4,
 "nbformat_minor": 2
}
